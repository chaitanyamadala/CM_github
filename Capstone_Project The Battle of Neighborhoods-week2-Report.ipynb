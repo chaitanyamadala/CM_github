{
 "cells": [
  {
   "cell_type": "markdown",
   "metadata": {},
   "source": [
    "# Capstone Project - The Battle of Neighborhoods"
   ]
  },
  {
   "cell_type": "markdown",
   "metadata": {},
   "source": [
    "## 1. Introduction - Business Problem\n",
    "The purpose of this Capstone Project is to help people in exploring  Indian cuisine restaurants around different neighborhoods of Queens borough in Newyork city.\n",
    "\n",
    "### Background\n",
    "\n",
    "New York is the most populous city in the United States. Situated on one of the world's largest natural harbors, New York City is composed of five boroughs, each of which is a county of the State of New York. \n",
    "\n",
    "The five boroughs—Brooklyn, Queens, Manhattan, the Bronx, and Staten Island—were consolidated into a single city in 1898.\n",
    "As many as 800 languages are spoken in New York, making it the most linguistically diverse city in the world. \n",
    "\n",
    "New York is home to more than 3.2 million residents born outside the United States, the largest foreign-born population of any city in the world.\n",
    "\n",
    "### Problem Description\n",
    "There are many resturants in Newyork which offers wide vareity of cuisines like Indian, Chinese, French, continental etc. \n",
    "For the people who loves to explore indian cuisines in Newyork area, It is helpful to have below information readily available so that they can experience some more variety of indian dishes.\n",
    "1. What are the various Indian cuisine based restuarant options one has, in Newyork neighborhoods\n",
    "2. Recommend with a neighborhood which has more indian restaurants\n",
    "\n",
    "This project aims at above aspects and *recommend the people with neighborhoods having more Indian cuisine restaurants* across Queens borough of Newyork city.\n"
   ]
  },
  {
   "cell_type": "markdown",
   "metadata": {},
   "source": [
    "## 2. Data\n",
    "\n",
    "Data collection is an important step of data pipeline. In this project, The data sources that we used to procure data are listed below.\n",
    "\n",
    "1. To realize our goal, we need to have access to data with list of boroughs, neighborhoods, location co-ordinate information like latitude and longitude values.\n",
    "\n",
    "#### Data source: https://cocl.us/new_york_dataset\n",
    "\n",
    "Newyork has a total of 5 boroughs and 306 neighborhoods. In order to segement the neighborhoods and explore them, we will essentially need a dataset that contains the 5 boroughs and the neighborhoods that exist in each borough as well as the the latitude and logitude coordinates of each neighborhood.\n",
    "\n",
    "Here all the relevant data is in the *features* key, which is basically a list of the neighborhoods.\n",
    "\n",
    "2. Location data of Indian resturants in Newyork city neighborhoods.\n",
    "\n",
    "#### Data source: Foursquare database\n",
    "Link: api.foursquare.com\n",
    "\n",
    "There are various Location data providers such as Four Square, Google places, Yelp. In this project we will use Foursquare's location data. \n",
    "\n",
    "Foursquare is a technology company that provides location data which is helpful to solve our problem. \n",
    "Location data typically consists of various information like Restaurants, schools, parks, gyms, community centres around a geo-coordinate location (longitude+latitude). \n",
    "\n",
    "We need to use Foursquare APIs to access location data and to explore the neighborhoods.\n",
    "There are two types of API calls that the company provides. i.e. regual API and premium API end points.For Non-commercial account, one can make 99,500 API calls per day for Regular end point and 500 calls per day for premium end point."
   ]
  },
  {
   "cell_type": "markdown",
   "metadata": {},
   "source": [
    "Data collection is an important step of data pipeline. In this project, The data sources that we used to procure data are listed below.\n",
    "\n",
    "1. To realize our goal, we need to have access to data with list of boroughs, neighborhoods, location co-ordinate information like latitude and longitude values.\n",
    "\n",
    "#### Data source: https://cocl.us/new_york_dataset\n",
    "\n",
    "Newyork has a total of 5 boroughs and 306 neighborhoods. In order to segement the neighborhoods and explore them, we will essentially need a dataset that contains the 5 boroughs and the neighborhoods that exist in each borough as well as the the latitude and logitude coordinates of each neighborhood.\n",
    "\n",
    "Here all the relevant data is in the *features* key, which is basically a list of the neighborhoods.\n",
    "\n",
    "2. Location data of Indian resturants in Newyork city neighborhoods.\n",
    "\n",
    "#### Data source: Foursquare database\n",
    "Link: api.foursquare.com\n",
    "\n",
    "There are various Location data providers such as Four Square, Google places, Yelp. In this project we will use Foursquare's location data. \n",
    "\n",
    "Foursquare is a technology company that provides location data which is helpful to solve our problem. \n",
    "Location data typically consists of various information like Restaurants, schools, parks, gyms, community centres around a geo-coordinate location (longitude+latitude). \n",
    "\n",
    "We need to use Foursquare APIs to access location data and to explore the neighborhoods.\n",
    "There are two types of API calls that the company provides. i.e. regual API and premium API end points.For Non-commercial account, one can make 99,500 API calls per day for Regular end point and 500 calls per day for premium end point."
   ]
  },
  {
   "cell_type": "markdown",
   "metadata": {},
   "source": [
    "# 3. Methodology"
   ]
  },
  {
   "cell_type": "markdown",
   "metadata": {},
   "source": [
    "Lets recap the 10 typical steps of Data Science Methodology and try to map our excercise to them in solving the problem.\n",
    "- #### Business understanding: \n",
    "We understand that we need to suggest the neighborhoods for Indian cuisine based restaurants to puplic with in Queens borough of Newyork city.\n",
    "- #### Analytic approach: \n",
    "Deploying K-means clustering algoerithm  to our problem best suits since our goal is to locate the area of Queens borough which has high number of indian restaurants so that we can suggest the people accordingly.\n",
    "- #### Data Requirements & Collection:\n",
    "Luckily to solve this problem we already have Newyork city data set available. and we have used the same as base to solve our problem.\n",
    "Additionally we have used data visualization techniques to see the quality of data.\n",
    "- #### Data Understanding & Preparation:\n",
    "This is the important and time consuming step in our project, where we preprocessed lot of data while we solve the problem.\n",
    "- #### Modeling\n",
    " K-means clustering algorithm was fit on queens_grouped_clustering data\n",
    "- #### Evaluation\n",
    "Since this is a clustering algorithm which works with unlabelled data, we did not get chance to evaluate the performance of model using KPIs like model accuracy and Confusion matrix unlike classification problems.\n",
    "- #### Deployment\n",
    "We have used K-means clustering algorithm to divide the neighborhood data in order to identify more presence of indian restuarants in given area.\n",
    "- #### Feedback\n",
    "The feedback is summarized in Results section."
   ]
  },
  {
   "cell_type": "markdown",
   "metadata": {},
   "source": [
    "# 4. Results\n",
    "- *The neighborhoods Bellaire, Bellerose and Queen Village has high number of Indian restaurants* \n",
    "- These neighborhoods are followed by Auburndale, Flora park and Glen oaks\n",
    "\n",
    "- Cluster-3 neighborhoods has relatively more number of indian restaurants as common venues, compared to other clusters. *we can recommend this cluster of neighborhoods to people to explore indian restaurants.*\n",
    "- Cluster-2 neighborhoods has no Indian restaurants as any of top-10 common places across all neighborhoods. Hence it is not cluster of our interest.\n",
    "- Cluster-1 neighborhoods has very few Indian cuisine based restaurants and one can explore it if cluster-3 based restaurants are already experienced."
   ]
  },
  {
   "cell_type": "markdown",
   "metadata": {},
   "source": [
    "# 5. Discussion\n"
   ]
  },
  {
   "cell_type": "markdown",
   "metadata": {},
   "source": [
    "As per analysis and results, we could recommend Bellaire, Bellerose and Queen Village neiborhoods as they have highest number of indian restaurants presence. \n",
    "Nevertheless, it is important to understand that we have tried to solve the problem by considering the biggest Borough of New york i.e Queens. The results may vary if we consider all the other Borough's neighborhoods as well. \n",
    "Another important view is that, this analysis is carried out based on data provided by foursquare API. \n",
    "We are not sure how dynamic (real-time) the available data is. Here again the results may vary from time to time, depending on the accuracy and availability of latest data."
   ]
  },
  {
   "cell_type": "markdown",
   "metadata": {},
   "source": [
    "# 6. Conclusion"
   ]
  },
  {
   "cell_type": "markdown",
   "metadata": {},
   "source": [
    "This data science project gave us a good opportunity to explore the real-world data and how to use it to solve a real-world problem. Could get hands-on experience in using various standard python library functions as well as user defined functions for exploring data, cleaning the data, etc...and to derive insights from data analysis and visulization activities.\n",
    "Overall, it was nice journey and good learning experience.\n",
    "\n",
    "Thank you."
   ]
  },
  {
   "cell_type": "code",
   "execution_count": null,
   "metadata": {},
   "outputs": [],
   "source": []
  }
 ],
 "metadata": {
  "kernelspec": {
   "display_name": "Python",
   "language": "python",
   "name": "conda-env-python-py"
  },
  "language_info": {
   "codemirror_mode": {
    "name": "ipython",
    "version": 3
   },
   "file_extension": ".py",
   "mimetype": "text/x-python",
   "name": "python",
   "nbconvert_exporter": "python",
   "pygments_lexer": "ipython3",
   "version": "3.6.10"
  },
  "widgets": {
   "state": {},
   "version": "1.1.2"
  }
 },
 "nbformat": 4,
 "nbformat_minor": 4
}
